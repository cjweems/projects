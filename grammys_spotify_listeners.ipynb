{
  "nbformat": 4,
  "nbformat_minor": 0,
  "metadata": {
    "colab": {
      "provenance": [],
      "authorship_tag": "ABX9TyNWF9MEanremuzEO4JnMPc1",
      "include_colab_link": true
    },
    "kernelspec": {
      "name": "python3",
      "display_name": "Python 3"
    },
    "language_info": {
      "name": "python"
    }
  },
  "cells": [
    {
      "cell_type": "markdown",
      "metadata": {
        "id": "view-in-github",
        "colab_type": "text"
      },
      "source": [
        "<a href=\"https://colab.research.google.com/github/cjweems/projects/blob/main/grammys_spotify_listeners.ipynb\" target=\"_parent\"><img src=\"https://colab.research.google.com/assets/colab-badge.svg\" alt=\"Open In Colab\"/></a>"
      ]
    },
    {
      "cell_type": "markdown",
      "source": [
        "### What would the Grammys had looked like if they were based off of listeners?\n",
        "\n",
        "This would remove the controvercy and sometimes semmingly randomenss of the Grammy Committee selecting winners for the various categories. This code will collect the data, award the winners, and analyze the data to see where the committee did (and didn't) get the awards right.\n",
        "\n",
        "To make this possible, data will be collected from [kworb.net](https://kworb.net/spotify/), a website which provides Spotify statistics for total artist listeners as well as indiviual album and song streams.\n",
        "\n",
        "All category nominations will come from the offical Grammy website"
      ],
      "metadata": {
        "id": "Td6iu8s4-qj0"
      }
    },
    {
      "cell_type": "code",
      "execution_count": null,
      "metadata": {
        "id": "DPSZWzLo2oe2"
      },
      "outputs": [],
      "source": []
    }
  ]
}