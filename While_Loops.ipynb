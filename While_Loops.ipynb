{
  "nbformat": 4,
  "nbformat_minor": 0,
  "metadata": {
    "colab": {
      "provenance": [],
      "authorship_tag": "ABX9TyOsRoPkJUOqZibBfoCxtKGy",
      "include_colab_link": true
    },
    "kernelspec": {
      "name": "python3",
      "display_name": "Python 3"
    },
    "language_info": {
      "name": "python"
    }
  },
  "cells": [
    {
      "cell_type": "markdown",
      "metadata": {
        "id": "view-in-github",
        "colab_type": "text"
      },
      "source": [
        "<a href=\"https://colab.research.google.com/github/cjweems/projects/blob/main/While_Loops.ipynb\" target=\"_parent\"><img src=\"https://colab.research.google.com/assets/colab-badge.svg\" alt=\"Open In Colab\"/></a>"
      ]
    },
    {
      "cell_type": "code",
      "execution_count": 2,
      "metadata": {
        "colab": {
          "base_uri": "https://localhost:8080/"
        },
        "id": "704bjOnNJlDA",
        "outputId": "447ed585-b0f8-43c0-c097-15f741cdde36"
      },
      "outputs": [
        {
          "output_type": "stream",
          "name": "stdout",
          "text": [
            "What is the secret password: ff\n",
            "That is not the correct password. Please Try again: ff\n",
            "That is not the correct password. Please Try again: ff\n",
            "That is not the correct password. Please Try again: ff\n",
            "That is not the correct password. Please Try again: ff\n",
            "That is not the correct password. Please Try again: hi\n",
            "Access Granted\n"
          ]
        }
      ],
      "source": [
        "secret = \"hi\"\n",
        "\n",
        "response = input(\"What is the secret password: \")\n",
        "\n",
        "while response != secret:\n",
        "  response = input(\"That is not the correct password. Please Try again: \")\n",
        "\n",
        "print(\"Access Granted\")"
      ]
    },
    {
      "cell_type": "code",
      "source": [
        "def oddCounter(number, odd):\n",
        "  count=0\n",
        "  while count < number:\n",
        "    if odd == True:\n",
        "      if count == 0:\n",
        "        count=1\n",
        "      else:\n",
        "        count=count+2\n",
        "    elif odd == False:\n",
        "      count=count+2\n",
        "    if count > number:\n",
        "      return\n",
        "    else:\n",
        "      print(count)"
      ],
      "metadata": {
        "id": "woHwVSsTOIcz"
      },
      "execution_count": 19,
      "outputs": []
    },
    {
      "cell_type": "code",
      "source": [
        "oddCounter(200,False)"
      ],
      "metadata": {
        "colab": {
          "base_uri": "https://localhost:8080/"
        },
        "id": "PcyFjFDrOeRp",
        "outputId": "0aa6baf8-ad20-4141-ec56-bdf8ecb08519"
      },
      "execution_count": 22,
      "outputs": [
        {
          "output_type": "stream",
          "name": "stdout",
          "text": [
            "2\n",
            "4\n",
            "6\n",
            "8\n",
            "10\n",
            "12\n",
            "14\n",
            "16\n",
            "18\n",
            "20\n",
            "22\n",
            "24\n",
            "26\n",
            "28\n",
            "30\n",
            "32\n",
            "34\n",
            "36\n",
            "38\n",
            "40\n",
            "42\n",
            "44\n",
            "46\n",
            "48\n",
            "50\n",
            "52\n",
            "54\n",
            "56\n",
            "58\n",
            "60\n",
            "62\n",
            "64\n",
            "66\n",
            "68\n",
            "70\n",
            "72\n",
            "74\n",
            "76\n",
            "78\n",
            "80\n",
            "82\n",
            "84\n",
            "86\n",
            "88\n",
            "90\n",
            "92\n",
            "94\n",
            "96\n",
            "98\n",
            "100\n",
            "102\n",
            "104\n",
            "106\n",
            "108\n",
            "110\n",
            "112\n",
            "114\n",
            "116\n",
            "118\n",
            "120\n",
            "122\n",
            "124\n",
            "126\n",
            "128\n",
            "130\n",
            "132\n",
            "134\n",
            "136\n",
            "138\n",
            "140\n",
            "142\n",
            "144\n",
            "146\n",
            "148\n",
            "150\n",
            "152\n",
            "154\n",
            "156\n",
            "158\n",
            "160\n",
            "162\n",
            "164\n",
            "166\n",
            "168\n",
            "170\n",
            "172\n",
            "174\n",
            "176\n",
            "178\n",
            "180\n",
            "182\n",
            "184\n",
            "186\n",
            "188\n",
            "190\n",
            "192\n",
            "194\n",
            "196\n",
            "198\n",
            "200\n"
          ]
        }
      ]
    }
  ]
}