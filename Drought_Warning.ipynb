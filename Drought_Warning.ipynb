{
  "nbformat": 4,
  "nbformat_minor": 0,
  "metadata": {
    "colab": {
      "provenance": [],
      "authorship_tag": "ABX9TyPV7aici3gkmhCAWDEYLbTy",
      "include_colab_link": true
    },
    "kernelspec": {
      "name": "python3",
      "display_name": "Python 3"
    },
    "language_info": {
      "name": "python"
    }
  },
  "cells": [
    {
      "cell_type": "markdown",
      "metadata": {
        "id": "view-in-github",
        "colab_type": "text"
      },
      "source": [
        "<a href=\"https://colab.research.google.com/github/cjweems/projects/blob/Drought-Warning/Drought_Warning.ipynb\" target=\"_parent\"><img src=\"https://colab.research.google.com/assets/colab-badge.svg\" alt=\"Open In Colab\"/></a>"
      ]
    },
    {
      "cell_type": "code",
      "execution_count": null,
      "metadata": {
        "colab": {
          "base_uri": "https://localhost:8080/"
        },
        "id": "t2dievOL4hon",
        "outputId": "b7316777-9ff2-4a78-e66c-d06dee525d6a"
      },
      "outputs": [
        {
          "output_type": "stream",
          "name": "stdout",
          "text": [
            "There is a water resriction notice now in effect.\n",
            "\n",
            "You water usage is less than your neibohrs. Good job!\n"
          ]
        }
      ],
      "source": [
        "def droughtWarning(waterLevel,avg1,avg2):\n",
        "  if waterLevel > 10 and waterLevel <= 15:\n",
        "    print(\"There is drought warning in effect.\")\n",
        "  elif waterLevel > 5 and waterLevel <= 10:\n",
        "    print(\"There is a water resriction notice now in effect.\")\n",
        "  elif waterLevel > 0 and waterLevel <= 5:\n",
        "    print(\"Water restrions are now being enforced.\")\n",
        "  else:\n",
        "    print(\"There is no drought in your area.\")\n",
        "\n",
        "  if avg1 < avg2:\n",
        "    print(\"\\nYou water usage is less than your neighbors. Good job!\")\n",
        "  else:\n",
        "    print(\"\\nYour water usage is more than your neighbors.\")\n",
        "\n",
        "droughtWarning(10,1,4)\n"
      ]
    },
    {
      "cell_type": "code",
      "source": [],
      "metadata": {
        "id": "f_vJuLoC67gn"
      },
      "execution_count": null,
      "outputs": []
    }
  ]
}