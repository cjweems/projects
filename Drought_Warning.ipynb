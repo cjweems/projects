{
  "nbformat": 4,
  "nbformat_minor": 0,
  "metadata": {
    "colab": {
      "provenance": [],
      "authorship_tag": "ABX9TyOD74Tznu80UHI6SNxoj4kn",
      "include_colab_link": true
    },
    "kernelspec": {
      "name": "python3",
      "display_name": "Python 3"
    },
    "language_info": {
      "name": "python"
    }
  },
  "cells": [
    {
      "cell_type": "markdown",
      "metadata": {
        "id": "view-in-github",
        "colab_type": "text"
      },
      "source": [
        "<a href=\"https://colab.research.google.com/github/cjweems/projects/blob/Drought-Warning/Drought_Warning.ipynb\" target=\"_parent\"><img src=\"https://colab.research.google.com/assets/colab-badge.svg\" alt=\"Open In Colab\"/></a>"
      ]
    },
    {
      "cell_type": "code",
      "execution_count": 1,
      "metadata": {
        "colab": {
          "base_uri": "https://localhost:8080/"
        },
        "id": "t2dievOL4hon",
        "outputId": "c220fe31-8866-45c6-9882-142a95bdf9dc"
      },
      "outputs": [
        {
          "output_type": "stream",
          "name": "stdout",
          "text": [
            "What is the water level in your area?9\n",
            "What is your water usage?99\n",
            "There is a water resriction notice now in effect.\n",
            "\n",
            "Your water usage is more than your neighbors.\n"
          ]
        }
      ],
      "source": [
        "import random\n",
        "\n",
        "def droughtWarning(waterLevel,avg1):\n",
        "  if waterLevel > 10 and waterLevel <= 15:\n",
        "    print(\"There is drought warning in effect.\")\n",
        "  elif waterLevel > 5 and waterLevel <= 10:\n",
        "    print(\"There is a water resriction notice now in effect.\")\n",
        "  elif waterLevel > 0 and waterLevel <= 5:\n",
        "    print(\"Water restrions are now being enforced.\")\n",
        "  else:\n",
        "    print(\"There is no drought in your area.\")\n",
        "\n",
        "  neighborLevel = (random.randint(1,20))\n",
        "\n",
        "\n",
        "\n",
        "  if avg1 < neighborLevel:\n",
        "    percent = ((avg1 + neighborLevel) * 10) / neighborLevel\n",
        "    print(percent)\n",
        "\n",
        "    #print(\"\\nYou water usage is less than your neighbors. Good job!\")\n",
        "  else:\n",
        "    print(\"\\nYour water usage is more than your neighbors.\")\n",
        "\n",
        "input1 = int(input(\"What is the water level in your area?\"))\n",
        "input2 = int(input(\"What is your water usage?\"))\n",
        "\n",
        "\n",
        "droughtWarning(input1,input2)\n"
      ]
    }
  ]
}