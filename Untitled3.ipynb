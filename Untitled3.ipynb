{
  "nbformat": 4,
  "nbformat_minor": 0,
  "metadata": {
    "colab": {
      "provenance": [],
      "authorship_tag": "ABX9TyMejtoRtdh+6fq6xDnRHOwv",
      "include_colab_link": true
    },
    "kernelspec": {
      "name": "python3",
      "display_name": "Python 3"
    },
    "language_info": {
      "name": "python"
    }
  },
  "cells": [
    {
      "cell_type": "markdown",
      "metadata": {
        "id": "view-in-github",
        "colab_type": "text"
      },
      "source": [
        "<a href=\"https://colab.research.google.com/github/cjweems/projects/blob/main/Untitled3.ipynb\" target=\"_parent\"><img src=\"https://colab.research.google.com/assets/colab-badge.svg\" alt=\"Open In Colab\"/></a>"
      ]
    },
    {
      "cell_type": "code",
      "execution_count": 26,
      "metadata": {
        "colab": {
          "base_uri": "https://localhost:8080/"
        },
        "id": "Ll6K9uEWNET0",
        "outputId": "38d3ad32-062a-475d-859f-a61158e5edaa"
      },
      "outputs": [
        {
          "output_type": "stream",
          "name": "stdout",
          "text": [
            "What is one of your favorite shows?a\n",
            "a  has been added to your currently watched shows\n",
            "You are currently watching  5 which are  ['The Office', 'Shameless', 'Stranger Things', 'Big Bang Theory', 'a']\n"
          ]
        }
      ],
      "source": [
        "addShow = True\n",
        "\n",
        "def favShows():\n",
        "  reccomendShows = [\"The Office\",\"Shameless\",\"Stranger Things\",\"Big Bang Theory\"]\n",
        "  currentShows = []\n",
        "\n",
        "  input1 = input(\"What show are you currently watching?\")\n",
        "  currentShows.append(input1)\n",
        "  print(,\" has been added to your currently watching shows\")\n",
        "  input2 = input(\"What's another show that you want to run?\")\n",
        "\n",
        "currentShows.append(input2)\n",
        "\n",
        "  input3 = input(\"Any others? (If not, leave blank)\")\n",
        "  while True:\n",
        "    if input3 == \"\":\n",
        "      break\n",
        "    else:\n",
        "      currentShows.append(input3)\n",
        "\n",
        "\n",
        "  print(\"You are currently watching \", currentShows[:])\n",
        "  print(\"You should watch \", currentShows[:])\n",
        "\n"
      ]
    }
  ]
}